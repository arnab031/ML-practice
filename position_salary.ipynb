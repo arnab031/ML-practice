{
  "nbformat": 4,
  "nbformat_minor": 0,
  "metadata": {
    "colab": {
      "name": "position_salary.ipynb",
      "provenance": [],
      "collapsed_sections": [],
      "authorship_tag": "ABX9TyMc2Nkc+2A/vGj6Odc4u9Jm",
      "include_colab_link": true
    },
    "kernelspec": {
      "name": "python3",
      "display_name": "Python 3"
    }
  },
  "cells": [
    {
      "cell_type": "markdown",
      "metadata": {
        "id": "view-in-github",
        "colab_type": "text"
      },
      "source": [
        "<a href=\"https://colab.research.google.com/github/arnab031/ML-practice/blob/main/position_salary.ipynb\" target=\"_parent\"><img src=\"https://colab.research.google.com/assets/colab-badge.svg\" alt=\"Open In Colab\"/></a>"
      ]
    },
    {
      "cell_type": "code",
      "metadata": {
        "id": "ZZTTxMQ9MOC9"
      },
      "source": [
        "import numpy as np\r\n",
        "import torch\r\n",
        "import pandas as pd\r\n",
        "import torch.nn as nn\r\n",
        "from torch.utils.data import TensorDataset\r\n",
        "from torch.utils.data import DataLoader\r\n",
        "import torch.nn.functional as F\r\n",
        "import matplotlib.pyplot as plt\r\n",
        "from sklearn.preprocessing import PolynomialFeatures"
      ],
      "execution_count": 230,
      "outputs": []
    },
    {
      "cell_type": "code",
      "metadata": {
        "colab": {
          "base_uri": "https://localhost:8080/",
          "height": 204
        },
        "id": "gmJiPdPsMd50",
        "outputId": "be1e7a25-ea50-4fb4-dcb3-cc9762b422e4"
      },
      "source": [
        "DATA_FILENAME1=\"/content/sample_data/Position_Salaries.csv\"\r\n",
        "dataframe = pd.read_csv(DATA_FILENAME1)\r\n",
        "dataframe.head()"
      ],
      "execution_count": 204,
      "outputs": [
        {
          "output_type": "execute_result",
          "data": {
            "text/html": [
              "<div>\n",
              "<style scoped>\n",
              "    .dataframe tbody tr th:only-of-type {\n",
              "        vertical-align: middle;\n",
              "    }\n",
              "\n",
              "    .dataframe tbody tr th {\n",
              "        vertical-align: top;\n",
              "    }\n",
              "\n",
              "    .dataframe thead th {\n",
              "        text-align: right;\n",
              "    }\n",
              "</style>\n",
              "<table border=\"1\" class=\"dataframe\">\n",
              "  <thead>\n",
              "    <tr style=\"text-align: right;\">\n",
              "      <th></th>\n",
              "      <th>Position</th>\n",
              "      <th>Level</th>\n",
              "      <th>Salary</th>\n",
              "    </tr>\n",
              "  </thead>\n",
              "  <tbody>\n",
              "    <tr>\n",
              "      <th>0</th>\n",
              "      <td>Software Engineer</td>\n",
              "      <td>1</td>\n",
              "      <td>22000</td>\n",
              "    </tr>\n",
              "    <tr>\n",
              "      <th>1</th>\n",
              "      <td>Sr. Software Engineer</td>\n",
              "      <td>2</td>\n",
              "      <td>24000</td>\n",
              "    </tr>\n",
              "    <tr>\n",
              "      <th>2</th>\n",
              "      <td>Technology Lead</td>\n",
              "      <td>3</td>\n",
              "      <td>30000</td>\n",
              "    </tr>\n",
              "    <tr>\n",
              "      <th>3</th>\n",
              "      <td>Team Leader</td>\n",
              "      <td>4</td>\n",
              "      <td>38000</td>\n",
              "    </tr>\n",
              "    <tr>\n",
              "      <th>4</th>\n",
              "      <td>Manager</td>\n",
              "      <td>5</td>\n",
              "      <td>50000</td>\n",
              "    </tr>\n",
              "  </tbody>\n",
              "</table>\n",
              "</div>"
            ],
            "text/plain": [
              "                Position  Level  Salary\n",
              "0      Software Engineer      1   22000\n",
              "1  Sr. Software Engineer      2   24000\n",
              "2        Technology Lead      3   30000\n",
              "3            Team Leader      4   38000\n",
              "4                Manager      5   50000"
            ]
          },
          "metadata": {
            "tags": []
          },
          "execution_count": 204
        }
      ]
    },
    {
      "cell_type": "code",
      "metadata": {
        "colab": {
          "base_uri": "https://localhost:8080/"
        },
        "id": "EiCzOOE-MfWB",
        "outputId": "61b09f9a-a347-49c5-b49f-677c67f60735"
      },
      "source": [
        "inputs = np.array(dataframe.iloc[:,1:2], dtype='float32')\r\n",
        "print(inputs)\r\n",
        "targets = np.array(dataframe.iloc[:,2:3], dtype='float32')\r\n",
        "print(targets)"
      ],
      "execution_count": 205,
      "outputs": [
        {
          "output_type": "stream",
          "text": [
            "[[ 1.]\n",
            " [ 2.]\n",
            " [ 3.]\n",
            " [ 4.]\n",
            " [ 5.]\n",
            " [ 6.]\n",
            " [ 7.]\n",
            " [ 8.]\n",
            " [ 9.]\n",
            " [10.]]\n",
            "[[ 22000.]\n",
            " [ 24000.]\n",
            " [ 30000.]\n",
            " [ 38000.]\n",
            " [ 50000.]\n",
            " [ 75000.]\n",
            " [110000.]\n",
            " [170000.]\n",
            " [260000.]\n",
            " [480000.]]\n"
          ],
          "name": "stdout"
        }
      ]
    },
    {
      "cell_type": "code",
      "metadata": {
        "colab": {
          "base_uri": "https://localhost:8080/"
        },
        "id": "ekjP1nkeFeJi",
        "outputId": "ba413fd6-7ccb-402a-f7fa-dcde28500b75"
      },
      "source": [
        "poly_reg = PolynomialFeatures(degree = 5)\r\n",
        "#print(poly_reg)\r\n",
        "inputs = poly_reg.fit_transform(inputs)\r\n",
        "print(inputs)\r\n",
        "print(targets)"
      ],
      "execution_count": 206,
      "outputs": [
        {
          "output_type": "stream",
          "text": [
            "[[1.0000e+00 1.0000e+00 1.0000e+00 1.0000e+00 1.0000e+00 1.0000e+00]\n",
            " [1.0000e+00 2.0000e+00 4.0000e+00 8.0000e+00 1.6000e+01 3.2000e+01]\n",
            " [1.0000e+00 3.0000e+00 9.0000e+00 2.7000e+01 8.1000e+01 2.4300e+02]\n",
            " [1.0000e+00 4.0000e+00 1.6000e+01 6.4000e+01 2.5600e+02 1.0240e+03]\n",
            " [1.0000e+00 5.0000e+00 2.5000e+01 1.2500e+02 6.2500e+02 3.1250e+03]\n",
            " [1.0000e+00 6.0000e+00 3.6000e+01 2.1600e+02 1.2960e+03 7.7760e+03]\n",
            " [1.0000e+00 7.0000e+00 4.9000e+01 3.4300e+02 2.4010e+03 1.6807e+04]\n",
            " [1.0000e+00 8.0000e+00 6.4000e+01 5.1200e+02 4.0960e+03 3.2768e+04]\n",
            " [1.0000e+00 9.0000e+00 8.1000e+01 7.2900e+02 6.5610e+03 5.9049e+04]\n",
            " [1.0000e+00 1.0000e+01 1.0000e+02 1.0000e+03 1.0000e+04 1.0000e+05]]\n",
            "[[ 22000.]\n",
            " [ 24000.]\n",
            " [ 30000.]\n",
            " [ 38000.]\n",
            " [ 50000.]\n",
            " [ 75000.]\n",
            " [110000.]\n",
            " [170000.]\n",
            " [260000.]\n",
            " [480000.]]\n"
          ],
          "name": "stdout"
        }
      ]
    },
    {
      "cell_type": "code",
      "metadata": {
        "colab": {
          "base_uri": "https://localhost:8080/"
        },
        "id": "GakNJwDBMl8d",
        "outputId": "4c579ab6-5358-4f80-abf3-6779124aa2d8"
      },
      "source": [
        "# Convert inputs and targets to tensors\r\n",
        "inputs = torch.from_numpy(inputs)\r\n",
        "targets = torch.from_numpy(targets)\r\n",
        "print(inputs)\r\n",
        "print(targets)"
      ],
      "execution_count": 207,
      "outputs": [
        {
          "output_type": "stream",
          "text": [
            "tensor([[1.0000e+00, 1.0000e+00, 1.0000e+00, 1.0000e+00, 1.0000e+00, 1.0000e+00],\n",
            "        [1.0000e+00, 2.0000e+00, 4.0000e+00, 8.0000e+00, 1.6000e+01, 3.2000e+01],\n",
            "        [1.0000e+00, 3.0000e+00, 9.0000e+00, 2.7000e+01, 8.1000e+01, 2.4300e+02],\n",
            "        [1.0000e+00, 4.0000e+00, 1.6000e+01, 6.4000e+01, 2.5600e+02, 1.0240e+03],\n",
            "        [1.0000e+00, 5.0000e+00, 2.5000e+01, 1.2500e+02, 6.2500e+02, 3.1250e+03],\n",
            "        [1.0000e+00, 6.0000e+00, 3.6000e+01, 2.1600e+02, 1.2960e+03, 7.7760e+03],\n",
            "        [1.0000e+00, 7.0000e+00, 4.9000e+01, 3.4300e+02, 2.4010e+03, 1.6807e+04],\n",
            "        [1.0000e+00, 8.0000e+00, 6.4000e+01, 5.1200e+02, 4.0960e+03, 3.2768e+04],\n",
            "        [1.0000e+00, 9.0000e+00, 8.1000e+01, 7.2900e+02, 6.5610e+03, 5.9049e+04],\n",
            "        [1.0000e+00, 1.0000e+01, 1.0000e+02, 1.0000e+03, 1.0000e+04, 1.0000e+05]])\n",
            "tensor([[ 22000.],\n",
            "        [ 24000.],\n",
            "        [ 30000.],\n",
            "        [ 38000.],\n",
            "        [ 50000.],\n",
            "        [ 75000.],\n",
            "        [110000.],\n",
            "        [170000.],\n",
            "        [260000.],\n",
            "        [480000.]])\n"
          ],
          "name": "stdout"
        }
      ]
    },
    {
      "cell_type": "code",
      "metadata": {
        "colab": {
          "base_uri": "https://localhost:8080/"
        },
        "id": "PSD6fCu8MvEx",
        "outputId": "8af5a6e8-969c-4c7d-f5a6-2f2e9c637520"
      },
      "source": [
        "# Define dataset\r\n",
        "train_ds = TensorDataset(inputs, targets)\r\n",
        "train_ds[:]"
      ],
      "execution_count": 208,
      "outputs": [
        {
          "output_type": "execute_result",
          "data": {
            "text/plain": [
              "(tensor([[1.0000e+00, 1.0000e+00, 1.0000e+00, 1.0000e+00, 1.0000e+00, 1.0000e+00],\n",
              "         [1.0000e+00, 2.0000e+00, 4.0000e+00, 8.0000e+00, 1.6000e+01, 3.2000e+01],\n",
              "         [1.0000e+00, 3.0000e+00, 9.0000e+00, 2.7000e+01, 8.1000e+01, 2.4300e+02],\n",
              "         [1.0000e+00, 4.0000e+00, 1.6000e+01, 6.4000e+01, 2.5600e+02, 1.0240e+03],\n",
              "         [1.0000e+00, 5.0000e+00, 2.5000e+01, 1.2500e+02, 6.2500e+02, 3.1250e+03],\n",
              "         [1.0000e+00, 6.0000e+00, 3.6000e+01, 2.1600e+02, 1.2960e+03, 7.7760e+03],\n",
              "         [1.0000e+00, 7.0000e+00, 4.9000e+01, 3.4300e+02, 2.4010e+03, 1.6807e+04],\n",
              "         [1.0000e+00, 8.0000e+00, 6.4000e+01, 5.1200e+02, 4.0960e+03, 3.2768e+04],\n",
              "         [1.0000e+00, 9.0000e+00, 8.1000e+01, 7.2900e+02, 6.5610e+03, 5.9049e+04],\n",
              "         [1.0000e+00, 1.0000e+01, 1.0000e+02, 1.0000e+03, 1.0000e+04, 1.0000e+05]]),\n",
              " tensor([[ 22000.],\n",
              "         [ 24000.],\n",
              "         [ 30000.],\n",
              "         [ 38000.],\n",
              "         [ 50000.],\n",
              "         [ 75000.],\n",
              "         [110000.],\n",
              "         [170000.],\n",
              "         [260000.],\n",
              "         [480000.]]))"
            ]
          },
          "metadata": {
            "tags": []
          },
          "execution_count": 208
        }
      ]
    },
    {
      "cell_type": "code",
      "metadata": {
        "id": "_ZpjAEotM-fq"
      },
      "source": [
        "# Define data loader\r\n",
        "batch_size = 1\r\n",
        "train_dl = DataLoader(train_ds, batch_size, shuffle=False)"
      ],
      "execution_count": 209,
      "outputs": []
    },
    {
      "cell_type": "code",
      "metadata": {
        "id": "7kxFuuhuigbU"
      },
      "source": [
        "# input_cols = dataframe.columns.values.tolist()\r\n",
        "# #input_cols=input_cols[1:]\r\n",
        "# print(input_cols)"
      ],
      "execution_count": null,
      "outputs": []
    },
    {
      "cell_type": "code",
      "metadata": {
        "id": "d8M9qiTFoABL"
      },
      "source": [
        "# categorical_cols=dataframe.select_dtypes(exclude=[\"number\"]).columns.values.tolist()\r\n",
        "# categorical_cols"
      ],
      "execution_count": null,
      "outputs": []
    },
    {
      "cell_type": "code",
      "metadata": {
        "id": "Plm0TmwCiuJz"
      },
      "source": [
        "# output_cols = [dataframe['Salary'].name]\r\n",
        "# output_cols"
      ],
      "execution_count": null,
      "outputs": []
    },
    {
      "cell_type": "code",
      "metadata": {
        "id": "_sOPOTKpoM7h"
      },
      "source": [
        "# def dataframe_to_arrays(dataframe):\r\n",
        "#     # Make a copy of the original dataframe\r\n",
        "#     dataframe1 = dataframe.copy(deep=True)\r\n",
        "#     # Convert non-numeric categorical columns to numbers\r\n",
        "#     for col in categorical_cols:\r\n",
        "#         dataframe1[col] = dataframe1[col].astype('category').cat.codes\r\n",
        "#     # Extract input & outupts as numpy arrays\r\n",
        "#     inputs_array = dataframe1[input_cols].to_numpy()\r\n",
        "#     targets_array = dataframe1[output_cols].to_numpy()\r\n",
        "#     return inputs_array, targets_array"
      ],
      "execution_count": null,
      "outputs": []
    },
    {
      "cell_type": "code",
      "metadata": {
        "id": "2nVZd7EZoQKk"
      },
      "source": [
        "# inputs_array, targets_array = dataframe_to_arrays(dataframe)\r\n",
        "# inputs_array, targets_array"
      ],
      "execution_count": null,
      "outputs": []
    },
    {
      "cell_type": "code",
      "metadata": {
        "id": "erg5NMiooWeh"
      },
      "source": [
        "# inputs = torch.from_numpy(inputs_array).type(torch.float32)\r\n",
        "# targets = torch.from_numpy(targets_array).type(torch.float32)\r\n",
        "# inputs, targets"
      ],
      "execution_count": null,
      "outputs": []
    },
    {
      "cell_type": "code",
      "metadata": {
        "id": "c7wDyDulogjG"
      },
      "source": [
        "# dataset = TensorDataset(inputs, targets)\r\n",
        "# train_ds=dataset"
      ],
      "execution_count": null,
      "outputs": []
    },
    {
      "cell_type": "code",
      "metadata": {
        "id": "Fb_uaIlxo39K"
      },
      "source": [
        "# train_loader = DataLoader(train_ds, 1, shuffle=False)"
      ],
      "execution_count": null,
      "outputs": []
    },
    {
      "cell_type": "code",
      "metadata": {
        "colab": {
          "base_uri": "https://localhost:8080/"
        },
        "id": "CVl2gpQTo-JS",
        "outputId": "1607c889-8bf4-4ac3-d777-7ec12905dc46"
      },
      "source": [
        "for xb, yb in train_dl:\r\n",
        "    print(\"inputs:\", xb)\r\n",
        "    print(\"targets:\", yb)\r\n",
        "    "
      ],
      "execution_count": 210,
      "outputs": [
        {
          "output_type": "stream",
          "text": [
            "inputs: tensor([[1., 1., 1., 1., 1., 1.]])\n",
            "targets: tensor([[22000.]])\n",
            "inputs: tensor([[ 1.,  2.,  4.,  8., 16., 32.]])\n",
            "targets: tensor([[24000.]])\n",
            "inputs: tensor([[  1.,   3.,   9.,  27.,  81., 243.]])\n",
            "targets: tensor([[30000.]])\n",
            "inputs: tensor([[1.0000e+00, 4.0000e+00, 1.6000e+01, 6.4000e+01, 2.5600e+02, 1.0240e+03]])\n",
            "targets: tensor([[38000.]])\n",
            "inputs: tensor([[1.0000e+00, 5.0000e+00, 2.5000e+01, 1.2500e+02, 6.2500e+02, 3.1250e+03]])\n",
            "targets: tensor([[50000.]])\n",
            "inputs: tensor([[1.0000e+00, 6.0000e+00, 3.6000e+01, 2.1600e+02, 1.2960e+03, 7.7760e+03]])\n",
            "targets: tensor([[75000.]])\n",
            "inputs: tensor([[1.0000e+00, 7.0000e+00, 4.9000e+01, 3.4300e+02, 2.4010e+03, 1.6807e+04]])\n",
            "targets: tensor([[110000.]])\n",
            "inputs: tensor([[1.0000e+00, 8.0000e+00, 6.4000e+01, 5.1200e+02, 4.0960e+03, 3.2768e+04]])\n",
            "targets: tensor([[170000.]])\n",
            "inputs: tensor([[1.0000e+00, 9.0000e+00, 8.1000e+01, 7.2900e+02, 6.5610e+03, 5.9049e+04]])\n",
            "targets: tensor([[260000.]])\n",
            "inputs: tensor([[1.0000e+00, 1.0000e+01, 1.0000e+02, 1.0000e+03, 1.0000e+04, 1.0000e+05]])\n",
            "targets: tensor([[480000.]])\n"
          ],
          "name": "stdout"
        }
      ]
    },
    {
      "cell_type": "code",
      "metadata": {
        "id": "aqgRMIl4hbq8"
      },
      "source": [
        "# input_size = len(inputs)\r\n",
        "# output_size = len(targets)\r\n",
        "# input_size, output_size"
      ],
      "execution_count": null,
      "outputs": []
    },
    {
      "cell_type": "code",
      "metadata": {
        "id": "2_gMod8ehWvX"
      },
      "source": [
        "class Model(nn.Module):\r\n",
        "    def __init__(self):\r\n",
        "        super().__init__()\r\n",
        "        self.linear = nn.Linear(6,1)                  # fill this (hint: use input_size & output_size defined above)\r\n",
        "        \r\n",
        "    def forward(self, xb):\r\n",
        "        out = self.linear(xb)                         # fill this\r\n",
        "        return out\r\n",
        "    \r\n",
        "    def training_step(self, batch):\r\n",
        "        inputs, targets = batch \r\n",
        "        # Generate predictions\r\n",
        "        out = self(inputs)          \r\n",
        "        # Calcuate loss\r\n",
        "        loss = F.l1_loss(out, targets)                          # fill this\r\n",
        "        return loss\r\n",
        "    "
      ],
      "execution_count": 215,
      "outputs": []
    },
    {
      "cell_type": "code",
      "metadata": {
        "colab": {
          "base_uri": "https://localhost:8080/"
        },
        "id": "I5UGOdSGNFSC",
        "outputId": "ed2dc3d4-1ed4-4f83-c2b6-680bf9307d0d"
      },
      "source": [
        "# Define model\r\n",
        "model = Model()\r\n",
        "list(model.parameters())"
      ],
      "execution_count": 222,
      "outputs": [
        {
          "output_type": "execute_result",
          "data": {
            "text/plain": [
              "[Parameter containing:\n",
              " tensor([[-0.2403, -0.2165,  0.1753, -0.1573,  0.2091,  0.0517]],\n",
              "        requires_grad=True), Parameter containing:\n",
              " tensor([-0.3744], requires_grad=True)]"
            ]
          },
          "metadata": {
            "tags": []
          },
          "execution_count": 222
        }
      ]
    },
    {
      "cell_type": "code",
      "metadata": {
        "id": "bYubrTY5NPdb"
      },
      "source": [
        "def fit(epochs, lr, model, train_loader, opt_func=torch.optim.SGD):\r\n",
        "    history = []\r\n",
        "    optimizer = opt_func(model.parameters(), lr)\r\n",
        "    for epoch in range(epochs):\r\n",
        "        # Training Phase \r\n",
        "        for batch in train_loader:\r\n",
        "            loss = model.training_step(batch)\r\n",
        "            loss.backward()\r\n",
        "            optimizer.step()\r\n",
        "            optimizer.zero_grad()\r\n",
        "        if (epoch+1) % 10 == 0:\r\n",
        "            print('Epoch [{}], Loss: {:.4f}'.format(epoch+1, loss.item()))"
      ],
      "execution_count": 223,
      "outputs": []
    },
    {
      "cell_type": "code",
      "metadata": {
        "colab": {
          "base_uri": "https://localhost:8080/"
        },
        "id": "xiLVCyfYkJWq",
        "outputId": "359b94f9-e02b-4fc5-c18e-6ea6037fb302"
      },
      "source": [
        "epochs = 500\r\n",
        "lr = 1e-7\r\n",
        "fit(epochs, lr, model, train_dl)"
      ],
      "execution_count": 224,
      "outputs": [
        {
          "output_type": "stream",
          "text": [
            "Epoch [10], Loss: 451557.0312\n",
            "Epoch [20], Loss: 429218.1562\n",
            "Epoch [30], Loss: 406879.2188\n",
            "Epoch [40], Loss: 384540.2500\n",
            "Epoch [50], Loss: 362201.2812\n",
            "Epoch [60], Loss: 339862.3125\n",
            "Epoch [70], Loss: 317523.3750\n",
            "Epoch [80], Loss: 295184.4062\n",
            "Epoch [90], Loss: 272845.5000\n",
            "Epoch [100], Loss: 250507.0312\n",
            "Epoch [110], Loss: 228168.5312\n",
            "Epoch [120], Loss: 205830.0625\n",
            "Epoch [130], Loss: 183491.5625\n",
            "Epoch [140], Loss: 161153.0938\n",
            "Epoch [150], Loss: 138814.5938\n",
            "Epoch [160], Loss: 116476.1250\n",
            "Epoch [170], Loss: 94137.6250\n",
            "Epoch [180], Loss: 71799.0938\n",
            "Epoch [190], Loss: 49459.9062\n",
            "Epoch [200], Loss: 34285.9375\n",
            "Epoch [210], Loss: 23888.7500\n",
            "Epoch [220], Loss: 13491.6250\n",
            "Epoch [230], Loss: 3094.4688\n",
            "Epoch [240], Loss: 778.3125\n",
            "Epoch [250], Loss: 482.4062\n",
            "Epoch [260], Loss: 186.5000\n",
            "Epoch [270], Loss: 109.4375\n",
            "Epoch [280], Loss: 405.3438\n",
            "Epoch [290], Loss: 701.2500\n",
            "Epoch [300], Loss: 997.2188\n",
            "Epoch [310], Loss: 727.1562\n",
            "Epoch [320], Loss: 431.2500\n",
            "Epoch [330], Loss: 135.2812\n",
            "Epoch [340], Loss: 160.5938\n",
            "Epoch [350], Loss: 456.5625\n",
            "Epoch [360], Loss: 752.4375\n",
            "Epoch [370], Loss: 971.8750\n",
            "Epoch [380], Loss: 675.9688\n",
            "Epoch [390], Loss: 380.0625\n",
            "Epoch [400], Loss: 84.1250\n",
            "Epoch [410], Loss: 211.7812\n",
            "Epoch [420], Loss: 507.6875\n",
            "Epoch [430], Loss: 803.5938\n",
            "Epoch [440], Loss: 920.7188\n",
            "Epoch [450], Loss: 624.8125\n",
            "Epoch [460], Loss: 328.8750\n",
            "Epoch [470], Loss: 33.0000\n",
            "Epoch [480], Loss: 262.9062\n",
            "Epoch [490], Loss: 558.8438\n",
            "Epoch [500], Loss: 854.7500\n"
          ],
          "name": "stdout"
        }
      ]
    },
    {
      "cell_type": "code",
      "metadata": {
        "colab": {
          "base_uri": "https://localhost:8080/"
        },
        "id": "b3_h6e8yJNLr",
        "outputId": "e0b39b73-2a27-405a-c914-9e114319ed54"
      },
      "source": [
        "epochs = 100\r\n",
        "lr = 1e-9\r\n",
        "fit(epochs, lr, model, train_dl)"
      ],
      "execution_count": 225,
      "outputs": [
        {
          "output_type": "stream",
          "text": [
            "Epoch [10], Loss: 61.2500\n",
            "Epoch [20], Loss: 2.5312\n",
            "Epoch [30], Loss: 5.5938\n",
            "Epoch [40], Loss: 8.6875\n",
            "Epoch [50], Loss: 8.4688\n",
            "Epoch [60], Loss: 5.4062\n",
            "Epoch [70], Loss: 2.3125\n",
            "Epoch [80], Loss: 0.7812\n",
            "Epoch [90], Loss: 3.8750\n",
            "Epoch [100], Loss: 6.9375\n"
          ],
          "name": "stdout"
        }
      ]
    },
    {
      "cell_type": "code",
      "metadata": {
        "colab": {
          "base_uri": "https://localhost:8080/"
        },
        "id": "5-pd1yzfPRAP",
        "outputId": "cfd35270-c22f-48a7-c234-5c6f6fdd7943"
      },
      "source": [
        "epochs = 100\r\n",
        "lr = 1e-10\r\n",
        "fit(epochs, lr, model, train_dl)"
      ],
      "execution_count": 227,
      "outputs": [
        {
          "output_type": "stream",
          "text": [
            "Epoch [10], Loss: 0.8438\n",
            "Epoch [20], Loss: 0.2188\n",
            "Epoch [30], Loss: 0.7812\n",
            "Epoch [40], Loss: 0.3125\n",
            "Epoch [50], Loss: 0.6875\n",
            "Epoch [60], Loss: 0.3750\n",
            "Epoch [70], Loss: 0.4375\n",
            "Epoch [80], Loss: 0.5625\n",
            "Epoch [90], Loss: 0.5000\n",
            "Epoch [100], Loss: 0.4688\n"
          ],
          "name": "stdout"
        }
      ]
    },
    {
      "cell_type": "code",
      "metadata": {
        "colab": {
          "base_uri": "https://localhost:8080/"
        },
        "id": "NwjQm2CLM_nA",
        "outputId": "0bba1a5d-ed54-495a-9eb4-a6c66ede3434"
      },
      "source": [
        "#poly_reg = PolynomialFeatures(degree = 6)\r\n",
        "#print(poly_reg)\r\n",
        "test = poly_reg.fit_transform([[8.3]])\r\n",
        "print(test)\r\n",
        "test=torch.from_numpy(test).type(torch.float32)\r\n",
        "print(test)\r\n",
        "model(test)\r\n"
      ],
      "execution_count": 238,
      "outputs": [
        {
          "output_type": "stream",
          "text": [
            "[[1.00000000e+00 8.30000000e+00 6.88900000e+01 5.71787000e+02\n",
            "  4.74583210e+03 3.93904064e+04]]\n",
            "tensor([[1.0000e+00, 8.3000e+00, 6.8890e+01, 5.7179e+02, 4.7458e+03, 3.9390e+04]])\n"
          ],
          "name": "stdout"
        },
        {
          "output_type": "execute_result",
          "data": {
            "text/plain": [
              "tensor([[189708.2969]], grad_fn=<AddmmBackward>)"
            ]
          },
          "metadata": {
            "tags": []
          },
          "execution_count": 238
        }
      ]
    },
    {
      "cell_type": "markdown",
      "metadata": {
        "id": "MFRjfZO7OxJx"
      },
      "source": [
        "For 8.3 degree 6 we got tensor([[159318.7188]]\r\n",
        "### For 8.3 degree 5 we got tensor([[189708.2969]]"
      ]
    },
    {
      "cell_type": "code",
      "metadata": {
        "id": "-W3s-fd3Q5Kn"
      },
      "source": [
        "test=test.detach().numpy()"
      ],
      "execution_count": 239,
      "outputs": []
    },
    {
      "cell_type": "code",
      "metadata": {
        "colab": {
          "base_uri": "https://localhost:8080/",
          "height": 329
        },
        "id": "K4B49myOPul9",
        "outputId": "5b8764ff-983f-4b82-838d-f78bd489bac2"
      },
      "source": [
        "# Visualising the Polynomial Regression results\r\n",
        "print(test)\r\n",
        "plt.scatter(inputs1, targets, color = 'red')\r\n",
        "plt.plot(inputs1, targets, color = 'blue')\r\n",
        "plt.plot(8.3,189708.2969,'bo')\r\n",
        "plt.title('Polynomial Regression')\r\n",
        "plt.xlabel('Position level')\r\n",
        "plt.ylabel('Salary')\r\n",
        "plt.show()"
      ],
      "execution_count": 247,
      "outputs": [
        {
          "output_type": "stream",
          "text": [
            "[[1.0000000e+00 8.3000002e+00 6.8889999e+01 5.7178699e+02 4.7458320e+03\n",
            "  3.9390406e+04]]\n"
          ],
          "name": "stdout"
        },
        {
          "output_type": "display_data",
          "data": {
            "image/png": "[encoded data removed]",
            "text/plain": [
              "<Figure size 432x288 with 1 Axes>"
            ]
          },
          "metadata": {
            "tags": [],
            "needs_background": "light"
          }
        }
      ]
    },
    {
      "cell_type": "code",
      "metadata": {
        "id": "QAArGF5Wjo-z"
      },
      "source": [
        "# # Utility function to train the model\r\n",
        "# def fit(num_epochs, model, loss_fn, opt, train_dl):\r\n",
        "    \r\n",
        "#     # Repeat for given number of epochs\r\n",
        "#     for epoch in range(num_epochs):\r\n",
        "        \r\n",
        "#         # Train with batches of data\r\n",
        "#         for xb,yb in train_dl:\r\n",
        "            \r\n",
        "#             # 1. Generate predictions\r\n",
        "#             pred = model(xb)\r\n",
        "            \r\n",
        "#             # 2. Calculate loss\r\n",
        "#             loss = loss_fn(pred, yb)\r\n",
        "            \r\n",
        "#             # 3. Compute gradients\r\n",
        "#             loss.backward()\r\n",
        "            \r\n",
        "#             # 4. Update parameters using gradients\r\n",
        "#             opt.step()\r\n",
        "            \r\n",
        "#             # 5. Reset the gradients to zero\r\n",
        "#             opt.zero_grad()\r\n",
        "        \r\n",
        "#         # Print the progress\r\n",
        "#         if (epoch+1) % 10 == 0:\r\n",
        "#             print('Epoch [{}/{}], Loss: {:.4f}'.format(epoch+1, num_epochs, loss.item()))"
      ],
      "execution_count": null,
      "outputs": []
    },
    {
      "cell_type": "code",
      "metadata": {
        "colab": {
          "base_uri": "https://localhost:8080/"
        },
        "id": "Vo9nN3u8NSTK",
        "outputId": "050f07df-8fa8-4d5d-bc7f-9d98f325e75f"
      },
      "source": [
        "# # Generate predictions\r\n",
        "# preds = model(inputs)\r\n",
        "# preds"
      ],
      "execution_count": 177,
      "outputs": [
        {
          "output_type": "execute_result",
          "data": {
            "text/plain": [
              "tensor([[ 1.0671e+01],\n",
              "        [ 2.4189e+02],\n",
              "        [ 1.3635e+03],\n",
              "        [ 4.0286e+03],\n",
              "        [ 7.3690e+03],\n",
              "        [ 6.4559e+03],\n",
              "        [-1.1275e+04],\n",
              "        [-7.0631e+04],\n",
              "        [-2.1431e+05],\n",
              "        [-5.0958e+05]], grad_fn=<AddmmBackward>)"
            ]
          },
          "metadata": {
            "tags": []
          },
          "execution_count": 177
        }
      ]
    },
    {
      "cell_type": "code",
      "metadata": {
        "id": "cGgRmQ_ANUr9"
      },
      "source": [
        "# # Define loss function\r\n",
        "# loss_fn = F.l1_loss"
      ],
      "execution_count": 178,
      "outputs": []
    },
    {
      "cell_type": "code",
      "metadata": {
        "colab": {
          "base_uri": "https://localhost:8080/"
        },
        "id": "O4EAvbKYNdAG",
        "outputId": "32087632-57ad-4ae2-d864-efd74a8a1525"
      },
      "source": [
        "# loss = loss_fn(model(inputs), targets)\r\n",
        "# print(loss)"
      ],
      "execution_count": 179,
      "outputs": [
        {
          "output_type": "stream",
          "text": [
            "tensor(204532.9844, grad_fn=<L1LossBackward>)\n"
          ],
          "name": "stdout"
        }
      ]
    },
    {
      "cell_type": "code",
      "metadata": {
        "colab": {
          "base_uri": "https://localhost:8080/"
        },
        "id": "_mfYFo0gMB2E",
        "outputId": "d03ef174-567e-4b23-b572-8dd80befbd78"
      },
      "source": [
        "# inputs1 = np.array(dataframe.iloc[:,1:2], dtype='float32')\r\n",
        "# print(inputs1)"
      ],
      "execution_count": 181,
      "outputs": [
        {
          "output_type": "stream",
          "text": [
            "[[ 1.]\n",
            " [ 2.]\n",
            " [ 3.]\n",
            " [ 4.]\n",
            " [ 5.]\n",
            " [ 6.]\n",
            " [ 7.]\n",
            " [ 8.]\n",
            " [ 9.]\n",
            " [10.]]\n"
          ],
          "name": "stdout"
        }
      ]
    },
    {
      "cell_type": "code",
      "metadata": {
        "id": "yzSRqKD0NfWy"
      },
      "source": [
        "# # Define optimizer\r\n",
        "# opt = torch.optim.SGD(model.parameters(), lr=1)"
      ],
      "execution_count": null,
      "outputs": []
    },
    {
      "cell_type": "code",
      "metadata": {
        "id": "naOVy3xdNhXK"
      },
      "source": [
        "# # Utility function to train the model\r\n",
        "# def fit(num_epochs, model, loss_fn, opt, train_dl):\r\n",
        "    \r\n",
        "#     # Repeat for given number of epochs\r\n",
        "#     for epoch in range(num_epochs):\r\n",
        "        \r\n",
        "#         # Train with batches of data\r\n",
        "#         for xb,yb in train_dl:\r\n",
        "            \r\n",
        "#             # 1. Generate predictions\r\n",
        "#             pred = model(xb)\r\n",
        "            \r\n",
        "#             # 2. Calculate loss\r\n",
        "#             loss = loss_fn(pred, yb)\r\n",
        "            \r\n",
        "#             # 3. Compute gradients\r\n",
        "#             loss.backward()\r\n",
        "            \r\n",
        "#             # 4. Update parameters using gradients\r\n",
        "#             opt.step()\r\n",
        "            \r\n",
        "#             # 5. Reset the gradients to zero\r\n",
        "#             opt.zero_grad()\r\n",
        "        \r\n",
        "#         # Print the progress\r\n",
        "#         if (epoch+1) % 10 == 0:\r\n",
        "#             print('Epoch [{}/{}], Loss: {:.4f}'.format(epoch+1, num_epochs, loss.item()))"
      ],
      "execution_count": null,
      "outputs": []
    },
    {
      "cell_type": "code",
      "metadata": {
        "id": "tPZhDubiNkcp"
      },
      "source": [
        "# fit(500, model, loss_fn, opt, train_dl)"
      ],
      "execution_count": null,
      "outputs": []
    },
    {
      "cell_type": "code",
      "metadata": {
        "id": "rkk3bRxfeaow"
      },
      "source": [
        "# # Visualising the Polynomial Regression results\r\n",
        "# #preds=preds.detach().numpy()\r\n",
        "# plt.scatter(inputs, targets, color = 'red')\r\n",
        "# plt.plot(inputs, preds, color = 'blue')\r\n",
        "# plt.title('Polynomial Regression')\r\n",
        "# plt.xlabel('Position level')\r\n",
        "# plt.ylabel('Salary')\r\n",
        "# plt.show()"
      ],
      "execution_count": null,
      "outputs": []
    },
    {
      "cell_type": "code",
      "metadata": {
        "id": "wWtYSy9gefTR"
      },
      "source": [
        ""
      ],
      "execution_count": null,
      "outputs": []
    }
  ]
}